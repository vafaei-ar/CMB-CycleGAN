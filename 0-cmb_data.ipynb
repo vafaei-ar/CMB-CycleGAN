{
 "cells": [
  {
   "cell_type": "code",
   "execution_count": null,
   "id": "b6232623-657f-49ab-8889-56e081a6ac79",
   "metadata": {},
   "outputs": [],
   "source": [
    "# You may need to install:\n",
    "# !pip install git+https://github.com/vafaei-ar/ccgpack.git"
   ]
  },
  {
   "cell_type": "code",
   "execution_count": null,
   "id": "2bcc09a1-6e78-4805-a1c1-79169e28f365",
   "metadata": {},
   "outputs": [],
   "source": [
    "import os\n",
    "import sys\n",
    "import shutil\n",
    "import argparse\n",
    "import numpy as np\n",
    "import pylab as plt\n",
    "import healpy as hp\n",
    "from ccgpack import sky2patch,download,ch_mkdir,pop_percent\n",
    "from utils import *\n",
    "\n",
    "#from healpy import cartview\n",
    "\n",
    "cmap = plt.cm.jet\n",
    "cmap.set_under('w')\n",
    "cmap.set_bad('gray',1.)\n",
    "\n",
    "if not in_notebook():\n",
    "    import argparse\n",
    "    parser = argparse.ArgumentParser(description='Short sample app')\n",
    "    parser.add_argument('-r', action=\"store_true\", default=False)\n",
    "    parser.add_argument('--nsim', action=\"store\", type=int, default=42)\n",
    "    args = parser.parse_args()\n",
    "    replace = args.r\n",
    "    nsim = args.nsim\n",
    "else:\n",
    "    replace = 0\n",
    "    nsim = 10\n",
    "nside = 2048\n",
    "lmax = 2*nside"
   ]
  },
  {
   "cell_type": "markdown",
   "id": "fe70fa26-8235-450a-a4da-1a5b8bc12df8",
   "metadata": {},
   "source": [
    "You can download CMB end2end simulations from:\n",
    "https://wiki.cosmos.esa.int/planck-legacy-archive/index.php/CMB_maps#CMB%20simulations"
   ]
  },
  {
   "cell_type": "markdown",
   "id": "1df65738-ef1a-4d65-9bbc-eb651f21e880",
   "metadata": {},
   "source": [
    "# download template:\n",
    "-     http://pla.esac.esa.int/pla/aio/dx12_v3_{method}_{cmb,noise,noise_hm1,noise_hm2,noise_oe1,noise_oe2}_mc_?????_raw.fits"
   ]
  },
  {
   "cell_type": "code",
   "execution_count": null,
   "id": "8cae4721-da61-4846-a9e7-1de56b13f44d",
   "metadata": {},
   "outputs": [],
   "source": [
    "!mkdir -p maps\n",
    "!mkdir -p maps/dataset"
   ]
  },
  {
   "cell_type": "code",
   "execution_count": null,
   "id": "53164e05-f955-4615-afba-dbabf5295f58",
   "metadata": {},
   "outputs": [],
   "source": [
    "for idx in range(nsim):\n",
    "    !eval {\"wget -q http://pla.esac.esa.int/pla/aio/product-action?SIMULATED_MAP.FILE_ID=dx12_v3_sevem_cmb_mc_{:05d}_raw.fits -O maps/dx12_v3_sevem_cmb_mc_{:05d}_raw.fits\".format(idx,idx)}\n",
    "    !eval {\"wget -q http://pla.esac.esa.int/pla/aio/product-action?SIMULATED_MAP.FILE_ID=dx12_v3_sevem_noise_mc_{:05d}_raw.fits -O maps/dx12_v3_sevem_noise_mc_{:05d}_raw.fits\".format(idx,idx)}"
   ]
  },
  {
   "cell_type": "code",
   "execution_count": null,
   "id": "78c5a8e2-93d3-459e-b84e-5136e4fa5404",
   "metadata": {},
   "outputs": [],
   "source": [
    "path_temp = 'maps/dx12_v3_{}_{}_mc_{:05d}_raw.fits'\n",
    "csep = 'sevem'\n",
    "typ = 'cmb'\n",
    "\n",
    "for iii in range(nsim):\n",
    "    for csep in ['sevem']:#,'nilc','smica','commander']:\n",
    "        fname1 = path_temp.format(csep,'cmb',iii)\n",
    "        fname2 = path_temp.format(csep,'noise',iii)\n",
    "        m = hp.read_map(fname1,nest=1,verbose=0)+hp.read_map(fname2,nest=1,verbose=0)\n",
    "        patches = sky2patch(m,1)\n",
    "        for j in range(12):\n",
    "            fnsave = 'maps/dataset/{}-{}-{}'.format(csep,iii,j)\n",
    "            np.save(fnsave,patches[j])\n",
    "            plt.imshow(patches[j], cmap=cmap)\n",
    "            plt.tight_layout()\n",
    "            plt.savefig(fnsave+'.jpg')\n",
    "            plt.close()\n",
    "\n",
    "cl = np.load('cl_planck_lensed.npy')\n",
    "ll = cl[:lmax,0]\n",
    "cl = cl[:lmax,1]\n",
    "ll = np.concatenate([[0,1],ll])\n",
    "cl = np.concatenate([[0,0],cl])\n",
    "\n",
    "for iii in range(nsim):\n",
    "    m = hp.sphtfunc.synfast(cl, nside=nside, lmax=lmax, mmax=None, alm=0, pol=0, pixwin=0, fwhm=0, sigma=None, new=1, verbose=0)\n",
    "    m = hp.reorder(m , r2n=1)\n",
    "    patches = sky2patch(m,1)\n",
    "    for j in range(12):\n",
    "        fnsave = 'maps/dataset/{}-{}-{}'.format('healpix',iii,j)\n",
    "        np.save(fnsave,patches[j])\n",
    "        plt.imshow(patches[j], cmap=cmap)\n",
    "        plt.tight_layout()\n",
    "        plt.savefig(fnsave+'.jpg')\n",
    "        plt.close()"
   ]
  },
  {
   "cell_type": "code",
   "execution_count": null,
   "id": "441cc0f2-8e27-4894-8cee-060274814af6",
   "metadata": {},
   "outputs": [],
   "source": [
    "for csep in ['healpix','sevem']:#,'nilc','smica','commander']:\n",
    "    print(csep)\n",
    "    pps = []\n",
    "    for iii in range(nsim):\n",
    "        for j in range(12):\n",
    "            fnsave = 'maps/dataset/{}-{}-{}.npy'.format(csep,iii,j)\n",
    "            pp = np.load(fnsave)\n",
    "            pps.append(pp)\n",
    "    pps = np.array(pps)\n",
    "    np.save(csep,pps)"
   ]
  },
  {
   "cell_type": "code",
   "execution_count": null,
   "id": "6e54415d-a99f-4393-b961-b37343d938f3",
   "metadata": {},
   "outputs": [],
   "source": []
  },
  {
   "cell_type": "code",
   "execution_count": null,
   "id": "9881c55b-b3c3-44e6-ade0-bc529a419e31",
   "metadata": {},
   "outputs": [],
   "source": []
  },
  {
   "cell_type": "code",
   "execution_count": null,
   "id": "7757f074-682f-46ea-9ce4-d175ed45c033",
   "metadata": {},
   "outputs": [],
   "source": []
  }
 ],
 "metadata": {
  "kernelspec": {
   "display_name": "gpu1",
   "language": "python",
   "name": "gpu1"
  },
  "language_info": {
   "codemirror_mode": {
    "name": "ipython",
    "version": 3
   },
   "file_extension": ".py",
   "mimetype": "text/x-python",
   "name": "python",
   "nbconvert_exporter": "python",
   "pygments_lexer": "ipython3",
   "version": "3.9.4"
  }
 },
 "nbformat": 4,
 "nbformat_minor": 5
}
