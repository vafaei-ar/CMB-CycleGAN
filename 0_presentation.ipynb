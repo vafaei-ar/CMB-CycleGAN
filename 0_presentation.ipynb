{
 "cells": [
  {
   "cell_type": "markdown",
   "id": "certified-forge",
   "metadata": {},
   "source": [
    "# CycleGANs can bridge to understanding/closing the reality gap for CMB simulations"
   ]
  },
  {
   "cell_type": "markdown",
   "id": "loose-universe",
   "metadata": {},
   "source": [
    "### ESA Planck Mission"
   ]
  },
  {
   "cell_type": "markdown",
   "id": "vertical-kingdom",
   "metadata": {},
   "source": [
    "![](http://www2.iap.fr/users/cardoso/pics/freqs2CMB.jpg)"
   ]
  },
  {
   "cell_type": "markdown",
   "id": "danish-effect",
   "metadata": {},
   "source": [
    "### The end-to-end simulation pipeline"
   ]
  },
  {
   "cell_type": "markdown",
   "id": "brown-candidate",
   "metadata": {},
   "source": [
    "![](https://wiki.cosmos.esa.int/planck-legacy-archive/images/7/78/Simflow2.png)"
   ]
  },
  {
   "cell_type": "markdown",
   "id": "cross-juvenile",
   "metadata": {},
   "source": [
    "### Machine leaning models"
   ]
  },
  {
   "cell_type": "markdown",
   "id": "acoustic-expression",
   "metadata": {},
   "source": [
    "![](https://developer.ibm.com/developer/default/articles/cc-models-machine-learning/images/figure03.png)"
   ]
  },
  {
   "cell_type": "markdown",
   "id": "renewable-gateway",
   "metadata": {},
   "source": [
    "### Generative Adversarial Networks"
   ]
  },
  {
   "cell_type": "markdown",
   "id": "exposed-venture",
   "metadata": {},
   "source": [
    "![](figs/gans.png)"
   ]
  },
  {
   "cell_type": "markdown",
   "id": "loose-kernel",
   "metadata": {},
   "source": [
    "### CycleGAN"
   ]
  },
  {
   "cell_type": "markdown",
   "id": "legislative-employee",
   "metadata": {},
   "source": [
    "![](https://media.arxiv-vanity.com/render-output/4735394/image/cyclegan.png)"
   ]
  },
  {
   "cell_type": "markdown",
   "id": "romantic-bryan",
   "metadata": {},
   "source": [
    "![](https://camo.githubusercontent.com/2fadde78dccf4d61f1294933c3e8083c07a303c7/68747470733a2f2f6a756e79616e7a2e6769746875622e696f2f4379636c6547414e2f696d616765732f6f626a656374732e6a7067)"
   ]
  },
  {
   "cell_type": "code",
   "execution_count": null,
   "id": "modern-palestine",
   "metadata": {},
   "outputs": [],
   "source": []
  }
 ],
 "metadata": {
  "kernelspec": {
   "display_name": "gpu1",
   "language": "python",
   "name": "gpu1"
  },
  "language_info": {
   "codemirror_mode": {
    "name": "ipython",
    "version": 3
   },
   "file_extension": ".py",
   "mimetype": "text/x-python",
   "name": "python",
   "nbconvert_exporter": "python",
   "pygments_lexer": "ipython3",
   "version": "3.8.8"
  }
 },
 "nbformat": 4,
 "nbformat_minor": 5
}
